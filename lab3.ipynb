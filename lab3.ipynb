{
 "cells": [
  {
   "cell_type": "markdown",
   "id": "163e6e72",
   "metadata": {},
   "source": [
    "# Laboratorio 3 Redes neuronales profundas\n",
    "#### Orlando Cabrera 19943\n",
    "#### José Hurtarte 19707"
   ]
  },
  {
   "cell_type": "code",
   "execution_count": 2,
   "id": "f88db08c",
   "metadata": {},
   "outputs": [
    {
     "name": "stderr",
     "output_type": "stream",
     "text": [
      "c:\\Users\\josej\\AppData\\Local\\Programs\\Python\\Python39\\lib\\site-packages\\tqdm\\auto.py:22: TqdmWarning: IProgress not found. Please update jupyter and ipywidgets. See https://ipywidgets.readthedocs.io/en/stable/user_install.html\n",
      "  from .autonotebook import tqdm as notebook_tqdm\n"
     ]
    }
   ],
   "source": [
    "import numpy as np\n",
    "import tensorflow as tf\n",
    "import tensorflow_datasets as tfds"
   ]
  },
  {
   "cell_type": "markdown",
   "id": "42d48eed",
   "metadata": {},
   "source": [
    "## Pre procesamiento de datos"
   ]
  },
  {
   "cell_type": "code",
   "execution_count": 3,
   "id": "00195d1c",
   "metadata": {},
   "outputs": [
    {
     "name": "stdout",
     "output_type": "stream",
     "text": [
      "\u001b[1mDownloading and preparing dataset Unknown size (download: Unknown size, generated: Unknown size, total: Unknown size) to ~\\tensorflow_datasets\\mnist\\3.0.1...\u001b[0m\n"
     ]
    },
    {
     "name": "stderr",
     "output_type": "stream",
     "text": [
      "Dl Completed...: 0 url [00:00, ? url/s]\n",
      "Dl Completed...:   0%|          | 0/1 [00:00<?, ? url/s]\n",
      "Dl Completed...:   0%|          | 0/2 [00:00<?, ? url/s]\n",
      "Dl Completed...:   0%|          | 0/3 [00:00<?, ? url/s]\n",
      "Dl Completed...:   0%|          | 0/4 [00:00<?, ? url/s]\n",
      "Dl Completed...:   0%|          | 0/4 [00:00<?, ? url/s]\n",
      "Dl Completed...:   0%|          | 0/4 [00:00<?, ? url/s]\n",
      "Dl Completed...:   0%|          | 0/4 [00:00<?, ? url/s]\n",
      "Dl Completed...:   0%|          | 0/4 [00:00<?, ? url/s]\n",
      "Dl Completed...:  25%|██▌       | 1/4 [00:00<00:01,  2.28 url/s]\n",
      "Dl Completed...:  50%|█████     | 2/4 [00:00<00:00,  2.28 url/s]\n",
      "Dl Completed...:  50%|█████     | 2/4 [00:00<00:00,  2.28 url/s]\n",
      "Dl Completed...:  50%|█████     | 2/4 [00:00<00:00,  2.28 url/s]\n",
      "\u001b[A\n",
      "Dl Completed...:  50%|█████     | 2/4 [00:00<00:00,  2.28 url/s]\n",
      "Dl Completed...:  50%|█████     | 2/4 [00:00<00:00,  2.28 url/s]\n",
      "Dl Completed...:  50%|█████     | 2/4 [00:00<00:00,  2.28 url/s]\n",
      "Dl Completed...:  50%|█████     | 2/4 [00:00<00:00,  2.28 url/s]\n",
      "Dl Completed...:  50%|█████     | 2/4 [00:00<00:00,  2.28 url/s]\n",
      "Dl Completed...:  50%|█████     | 2/4 [00:01<00:00,  2.28 url/s]\n",
      "Dl Completed...:  75%|███████▌  | 3/4 [00:01<00:00,  2.77 url/s]\n",
      "Dl Completed...:  75%|███████▌  | 3/4 [00:01<00:00,  2.77 url/s]\n",
      "Dl Completed...:  75%|███████▌  | 3/4 [00:01<00:00,  2.77 url/s]\n",
      "Dl Completed...:  75%|███████▌  | 3/4 [00:01<00:00,  2.77 url/s]\n",
      "Dl Completed...:  75%|███████▌  | 3/4 [00:01<00:00,  2.77 url/s]\n",
      "Dl Completed...:  75%|███████▌  | 3/4 [00:01<00:00,  2.77 url/s]\n",
      "\u001b[A\n",
      "Dl Completed...:  75%|███████▌  | 3/4 [00:01<00:00,  2.77 url/s]\n",
      "Dl Completed...:  75%|███████▌  | 3/4 [00:01<00:00,  2.77 url/s]\n",
      "Dl Completed...:  75%|███████▌  | 3/4 [00:01<00:00,  2.77 url/s]\n",
      "Dl Completed...: 100%|██████████| 4/4 [00:01<00:00,  2.23 url/s]\n",
      "Dl Completed...: 100%|██████████| 4/4 [00:01<00:00,  2.23 url/s]\n",
      "\u001b[A\n",
      "Dl Completed...: 100%|██████████| 4/4 [00:02<00:00,  2.23 url/s]\n",
      "Extraction completed...: 100%|██████████| 4/4 [00:02<00:00,  1.59 file/s]\n",
      "Dl Size...: 100%|██████████| 10/10 [00:02<00:00,  3.96 MiB/s]\n",
      "Dl Completed...: 100%|██████████| 4/4 [00:02<00:00,  1.58 url/s]\n",
      "                                                                        \r"
     ]
    },
    {
     "name": "stdout",
     "output_type": "stream",
     "text": [
      "\u001b[1mDataset mnist downloaded and prepared to ~\\tensorflow_datasets\\mnist\\3.0.1. Subsequent calls will reuse this data.\u001b[0m\n"
     ]
    }
   ],
   "source": [
    "datos_mnist, info_mnist = tfds.load(name='mnist',\n",
    "                                    shuffle_files = False,\n",
    "                                    with_info=True, \n",
    "                                    as_supervised=True)"
   ]
  },
  {
   "cell_type": "code",
   "execution_count": 4,
   "id": "7e24aeaa",
   "metadata": {},
   "outputs": [],
   "source": [
    "entreno_mnist, prueba_mnist = datos_mnist['train'], datos_mnist['test']"
   ]
  },
  {
   "cell_type": "code",
   "execution_count": 5,
   "id": "b724149e",
   "metadata": {},
   "outputs": [],
   "source": [
    "num_obs_validacion = 0.1 * info_mnist.splits['train'].num_examples"
   ]
  },
  {
   "cell_type": "code",
   "execution_count": 6,
   "id": "8e0c5bd4",
   "metadata": {},
   "outputs": [],
   "source": [
    "num_obs_validacion = tf.cast(num_obs_validacion, tf.int64)"
   ]
  },
  {
   "cell_type": "code",
   "execution_count": 7,
   "id": "c93a447a",
   "metadata": {},
   "outputs": [],
   "source": [
    "num_obs_prueba = info_mnist.splits['test'].num_examples"
   ]
  },
  {
   "cell_type": "code",
   "execution_count": 8,
   "id": "0d1879a0",
   "metadata": {},
   "outputs": [],
   "source": [
    "num_obs_prueba = tf.cast(num_obs_prueba, tf.int64)"
   ]
  },
  {
   "cell_type": "code",
   "execution_count": 9,
   "id": "35fe0f1d",
   "metadata": {},
   "outputs": [],
   "source": [
    "def normalizar(imagen, etiqueta):\n",
    "    imagen = tf.cast(imagen, tf.float32)\n",
    "    imagen /= 255.\n",
    "    return imagen, etiqueta"
   ]
  },
  {
   "cell_type": "code",
   "execution_count": 10,
   "id": "f2f837a4",
   "metadata": {},
   "outputs": [],
   "source": [
    "datos_entrenamiento_y_validacion_normalizados = entreno_mnist.map(normalizar)"
   ]
  },
  {
   "cell_type": "code",
   "execution_count": 11,
   "id": "d56a54f3",
   "metadata": {},
   "outputs": [],
   "source": [
    "datos_prueba = prueba_mnist.map(normalizar)"
   ]
  },
  {
   "cell_type": "code",
   "execution_count": 12,
   "id": "8969c616",
   "metadata": {},
   "outputs": [],
   "source": [
    "datos_entrenamiento_y_validacion_barajeados = datos_entrenamiento_y_validacion_normalizados.shuffle(10000)"
   ]
  },
  {
   "cell_type": "code",
   "execution_count": 13,
   "id": "2daed1cc",
   "metadata": {},
   "outputs": [],
   "source": [
    "datos_validacion = datos_entrenamiento_y_validacion_barajeados.take(num_obs_validacion)"
   ]
  },
  {
   "cell_type": "code",
   "execution_count": 14,
   "id": "919f36ce",
   "metadata": {},
   "outputs": [],
   "source": [
    "datos_entreno = datos_entrenamiento_y_validacion_barajeados.skip(num_obs_validacion)"
   ]
  },
  {
   "cell_type": "code",
   "execution_count": 15,
   "id": "b87cbf1f",
   "metadata": {},
   "outputs": [],
   "source": [
    "TAMANIO_TANDA = 100\n",
    "\n",
    "datos_entreno = datos_entreno.batch(TAMANIO_TANDA)\n",
    "\n",
    "datos_validacion = datos_validacion.batch(num_obs_validacion)\n",
    "\n",
    "datos_prueba = datos_prueba.batch(num_obs_prueba)"
   ]
  },
  {
   "cell_type": "code",
   "execution_count": 16,
   "id": "73ff0c98",
   "metadata": {},
   "outputs": [],
   "source": [
    "entradas_validacion, metas_validacion = next(iter(datos_validacion))"
   ]
  },
  {
   "cell_type": "markdown",
   "id": "e061dde2",
   "metadata": {},
   "source": [
    "## 1. El ancho (tamaño de la capa escondida) del algoritmo. Intenten con un tamaño de 200.  ¿Cómo cambia la precisión de validación del modelo?  ¿Cuánto  tiempo se tardó el algoritmo en entrenar?  ¿Puede encontrar un tamaño de  capa escondida que funcione mejor?"
   ]
  },
  {
   "cell_type": "code",
   "execution_count": 69,
   "id": "75d4d44d",
   "metadata": {},
   "outputs": [],
   "source": [
    "tamanio_capa_escondida = 200\n",
    "tamanio_salida = 10"
   ]
  },
  {
   "cell_type": "code",
   "execution_count": 72,
   "id": "6c45cbc6",
   "metadata": {},
   "outputs": [],
   "source": [
    "modelo = tf.keras.Sequential([\n",
    "\n",
    "    tf.keras.layers.Flatten(input_shape=(28, 28, 1)), # capa entrada\n",
    "    \n",
    "    tf.keras.layers.Dense(tamanio_capa_escondida, activation='relu'), # 1era capa escondida\n",
    "    tf.keras.layers.Dense(tamanio_capa_escondida, activation='relu'), # 2nda capa escondida\n",
    "\n",
    "    tf.keras.layers.Dense(tamanio_salida, activation='softmax') # capa salida\n",
    "])"
   ]
  },
  {
   "cell_type": "code",
   "execution_count": 73,
   "id": "eb5ab5b4",
   "metadata": {},
   "outputs": [],
   "source": [
    "modelo.compile(optimizer='adam', loss='sparse_categorical_crossentropy', metrics=['accuracy'])"
   ]
  },
  {
   "cell_type": "code",
   "execution_count": 74,
   "id": "0d313387",
   "metadata": {},
   "outputs": [
    {
     "name": "stdout",
     "output_type": "stream",
     "text": [
      "Epoch 1/5\n",
      "540/540 - 2s - loss: 0.2724 - accuracy: 0.9213 - val_loss: 0.1249 - val_accuracy: 0.9610 - 2s/epoch - 4ms/step\n",
      "Epoch 2/5\n",
      "540/540 - 2s - loss: 0.1052 - accuracy: 0.9680 - val_loss: 0.0808 - val_accuracy: 0.9753 - 2s/epoch - 3ms/step\n",
      "Epoch 3/5\n",
      "540/540 - 2s - loss: 0.0702 - accuracy: 0.9785 - val_loss: 0.0636 - val_accuracy: 0.9813 - 2s/epoch - 3ms/step\n",
      "Epoch 4/5\n",
      "540/540 - 2s - loss: 0.0525 - accuracy: 0.9833 - val_loss: 0.0513 - val_accuracy: 0.9837 - 2s/epoch - 3ms/step\n",
      "Epoch 5/5\n",
      "540/540 - 2s - loss: 0.0411 - accuracy: 0.9873 - val_loss: 0.0404 - val_accuracy: 0.9860 - 2s/epoch - 3ms/step\n"
     ]
    },
    {
     "data": {
      "text/plain": [
       "<keras.callbacks.History at 0x2d60f508fd0>"
      ]
     },
     "execution_count": 74,
     "metadata": {},
     "output_type": "execute_result"
    }
   ],
   "source": [
    "\n",
    "\n",
    "modelo.fit(datos_entreno, \n",
    "          epochs = 5, \n",
    "          validation_data = (entradas_validacion, metas_validacion),\n",
    "          validation_steps = 10,\n",
    "          verbose = 2)"
   ]
  },
  {
   "cell_type": "markdown",
   "id": "4ebe9c71",
   "metadata": {},
   "source": [
    "Presición de validación 0.9860"
   ]
  },
  {
   "cell_type": "code",
   "execution_count": 75,
   "id": "a3847719",
   "metadata": {},
   "outputs": [
    {
     "name": "stdout",
     "output_type": "stream",
     "text": [
      "1/1 [==============================] - 0s 222ms/step - loss: 0.0715 - accuracy: 0.9773\n"
     ]
    }
   ],
   "source": [
    "perdida_prueba, precision_prueba = modelo.evaluate(datos_prueba)"
   ]
  },
  {
   "cell_type": "code",
   "execution_count": 76,
   "id": "30ba7109",
   "metadata": {},
   "outputs": [
    {
     "name": "stdout",
     "output_type": "stream",
     "text": [
      "Pérdida de prueba: 0.07. Precisión de prueba: 97.73%\n"
     ]
    }
   ],
   "source": [
    "print('Pérdida de prueba: {0:.2f}. Precisión de prueba: {1:.2f}%'.format(perdida_prueba, precision_prueba * 100.))"
   ]
  },
  {
   "cell_type": "markdown",
   "id": "a98de1e1",
   "metadata": {},
   "source": [
    "Algo bastante interesante es que a pesar de que fueran solo 2 capas escondidas y al aumentarle el numero de perceptrones por cada una de estas capas escondidas aumentó la presición de la validación de 0.9852 a 0.9860 además este siempre aumentó, por lo que a pesar del aumento de perceptrones no se observa overfit. Además hay una leve mejora en la presición de prueba del 96.69% al 97.73% por lo que podemos observar un leve aumento con respecto a las 50 neuronas por capa en el modelo inicial, además obtuvo un tiempo de ejecución de la creación del modelo de 8.6 segundos"
   ]
  },
  {
   "cell_type": "markdown",
   "id": "ef2cb854",
   "metadata": {},
   "source": [
    "## 2. La profundidad del algoritmo.  Agreguen una capa escondida más al algoritmo. Este es un ejercicio extremadamente importante!  ¿Cómo cambia la precisión de validación?  ¿Qué hay del tiempo que se tarda en ejecutar?   Pista:  deben tener cuidado con las formas de los pesos y los sesgos."
   ]
  },
  {
   "cell_type": "code",
   "execution_count": 24,
   "id": "24d59629",
   "metadata": {},
   "outputs": [],
   "source": [
    "tamanio_capa_escondida = 50\n",
    "tamanio_salida = 10"
   ]
  },
  {
   "cell_type": "code",
   "execution_count": 25,
   "id": "b4984c42",
   "metadata": {},
   "outputs": [],
   "source": [
    "modelo = tf.keras.Sequential([\n",
    "\n",
    "    tf.keras.layers.Flatten(input_shape=(28, 28, 1)), # capa entrada\n",
    "    \n",
    "    tf.keras.layers.Dense(tamanio_capa_escondida, activation='relu'), # 1era capa escondida\n",
    "    tf.keras.layers.Dense(tamanio_capa_escondida, activation='relu'), # 2nda capa escondida\n",
    "    tf.keras.layers.Dense(tamanio_capa_escondida, activation='relu'), # 3a capa escondida\n",
    "\n",
    "    tf.keras.layers.Dense(tamanio_salida, activation='softmax') # capa salida\n",
    "])"
   ]
  },
  {
   "cell_type": "code",
   "execution_count": 33,
   "id": "e31c99a2",
   "metadata": {},
   "outputs": [],
   "source": [
    "modelo.compile(optimizer='adam', loss='sparse_categorical_crossentropy', metrics=['accuracy'])\n"
   ]
  },
  {
   "cell_type": "code",
   "execution_count": 27,
   "id": "86537d34",
   "metadata": {},
   "outputs": [
    {
     "name": "stdout",
     "output_type": "stream",
     "text": [
      "Epoch 1/5\n",
      "540/540 - 2s - loss: 0.4086 - accuracy: 0.8794 - val_loss: 0.1970 - val_accuracy: 0.9430 - 2s/epoch - 4ms/step\n",
      "Epoch 2/5\n",
      "540/540 - 1s - loss: 0.1695 - accuracy: 0.9493 - val_loss: 0.1321 - val_accuracy: 0.9597 - 1s/epoch - 3ms/step\n",
      "Epoch 3/5\n",
      "540/540 - 1s - loss: 0.1293 - accuracy: 0.9610 - val_loss: 0.1167 - val_accuracy: 0.9643 - 1s/epoch - 3ms/step\n",
      "Epoch 4/5\n",
      "540/540 - 1s - loss: 0.1064 - accuracy: 0.9681 - val_loss: 0.0939 - val_accuracy: 0.9728 - 1s/epoch - 3ms/step\n",
      "Epoch 5/5\n",
      "540/540 - 1s - loss: 0.0912 - accuracy: 0.9724 - val_loss: 0.0879 - val_accuracy: 0.9732 - 1s/epoch - 3ms/step\n"
     ]
    },
    {
     "data": {
      "text/plain": [
       "<keras.callbacks.History at 0x2d611d688e0>"
      ]
     },
     "execution_count": 27,
     "metadata": {},
     "output_type": "execute_result"
    }
   ],
   "source": [
    "modelo.fit(datos_entreno, \n",
    "          epochs = 5, \n",
    "          validation_data = (entradas_validacion, metas_validacion),\n",
    "          validation_steps = 10,\n",
    "          verbose = 2)"
   ]
  },
  {
   "cell_type": "markdown",
   "id": "181478e9",
   "metadata": {},
   "source": [
    "Presición de validación 0.9732"
   ]
  },
  {
   "cell_type": "code",
   "execution_count": 29,
   "id": "7552fc84",
   "metadata": {},
   "outputs": [
    {
     "name": "stdout",
     "output_type": "stream",
     "text": [
      "1/1 [==============================] - 0s 221ms/step - loss: 0.1108 - accuracy: 0.9672\n"
     ]
    }
   ],
   "source": [
    "perdida_prueba, precision_prueba = modelo.evaluate(datos_prueba)"
   ]
  },
  {
   "cell_type": "code",
   "execution_count": 30,
   "id": "23a188f5",
   "metadata": {},
   "outputs": [
    {
     "name": "stdout",
     "output_type": "stream",
     "text": [
      "Pérdida de prueba: 0.11. Precisión de prueba: 96.72%\n"
     ]
    }
   ],
   "source": [
    "print('Pérdida de prueba: {0:.2f}. Precisión de prueba: {1:.2f}%'.format(perdida_prueba, precision_prueba * 100.))\n"
   ]
  },
  {
   "cell_type": "markdown",
   "id": "3e42372c",
   "metadata": {},
   "source": [
    "Algo que podemos mencionar de esta red es que hay un consenso que nos dice que si tenemos una red que en total tiene más de 3 capas, se suele considerar de deep learning y cuando tiene menos se considera shallow learning. Debido a esto al aumentar capas en las redes neuronales se suele mejorar la comprensión de problemas complejos. Sin embargo en este caso pudimos observar que la presición de validación es de 0.9732 lo cual no mejora la presición de validación original lo cual también no es eficiente ya que generando mayor trabajo computacional genera resultados sub optimos."
   ]
  },
  {
   "cell_type": "markdown",
   "id": "67a08812",
   "metadata": {},
   "source": [
    "## 3. El ancho y la profundidad del algoritmo.  Agregue cuantas capas sean necesarias para llegar a 5 capas escondidas.  Es más, ajusten el ancho del algoritmo conforme lo encuentre más conveniente.  ¿Cómo cambia la precisiónde validación? ¿Qué hay del tiempo de ejecución?"
   ]
  },
  {
   "cell_type": "markdown",
   "id": "a3fe8dc3",
   "metadata": {},
   "source": [
    "Según muchos estandares, no hay una forma exacta de definir cuales son las capas y cantidad de perceptrones optimas en cada una de las capas. Hay gente que recomienda utilizar solo 1 capa oculta con la media de la entrada y la salida o gente que recomienda que el tamaño de las capas escondidas sea 2/3 de la capa de entrada mas el tamaño de la capa de salida. Sin embargo según el siguiente artículo https://www.linkedin.com/pulse/choosing-number-hidden-layers-neurons-neural-networks-sachdev/, se suele recomendar seguir el tamaño de entrada de la red neuronal por el tamaño de salida de la red neuronal y tomar la raiz cuadrada de este numero calculado cuando deseamos utilizar una red con multiples capas escondidas. Por lo que este número en nuestro caso sería:"
   ]
  },
  {
   "cell_type": "code",
   "execution_count": 32,
   "id": "ee88701d",
   "metadata": {},
   "outputs": [
    {
     "data": {
      "text/plain": [
       "246"
      ]
     },
     "execution_count": 32,
     "metadata": {},
     "output_type": "execute_result"
    }
   ],
   "source": [
    "int((78*78*10)**0.5)"
   ]
  },
  {
   "cell_type": "markdown",
   "id": "f364e84d",
   "metadata": {},
   "source": [
    "Por lo que siguiendo las directrices anteriores se generó el siguiente modelo:"
   ]
  },
  {
   "cell_type": "code",
   "execution_count": 47,
   "id": "f0ac3d01",
   "metadata": {},
   "outputs": [],
   "source": [
    "tamanio_capa_escondida = 246\n",
    "tamanio_salida = 10"
   ]
  },
  {
   "cell_type": "code",
   "execution_count": 48,
   "id": "203ead96",
   "metadata": {},
   "outputs": [],
   "source": [
    "modelo = tf.keras.Sequential([\n",
    "\n",
    "    tf.keras.layers.Flatten(input_shape=(28, 28, 1)), # capa entrada\n",
    "    \n",
    "    tf.keras.layers.Dense(tamanio_capa_escondida, activation='relu'), # 1era capa escondida\n",
    "    tf.keras.layers.Dense(tamanio_capa_escondida, activation='relu'), # 2nda capa escondida\n",
    "    tf.keras.layers.Dense(tamanio_capa_escondida, activation='relu'), # 3era capa escondida\n",
    "    tf.keras.layers.Dense(tamanio_capa_escondida, activation='relu'), # 4ta capa escondida\n",
    "    tf.keras.layers.Dense(tamanio_capa_escondida, activation='relu'), # 5ta capa escondida\n",
    "\n",
    "    tf.keras.layers.Dense(tamanio_salida, activation='softmax') # capa salida\n",
    "])"
   ]
  },
  {
   "cell_type": "code",
   "execution_count": 49,
   "id": "eb10768a",
   "metadata": {},
   "outputs": [],
   "source": [
    "modelo.compile(optimizer='adam', loss='sparse_categorical_crossentropy', metrics=['accuracy'])\n"
   ]
  },
  {
   "cell_type": "code",
   "execution_count": 50,
   "id": "be8fbc4b",
   "metadata": {},
   "outputs": [
    {
     "name": "stdout",
     "output_type": "stream",
     "text": [
      "Epoch 1/5\n",
      "540/540 - 3s - loss: 0.2579 - accuracy: 0.9217 - val_loss: 0.1341 - val_accuracy: 0.9597 - 3s/epoch - 6ms/step\n",
      "Epoch 2/5\n",
      "540/540 - 2s - loss: 0.1047 - accuracy: 0.9676 - val_loss: 0.0783 - val_accuracy: 0.9767 - 2s/epoch - 4ms/step\n",
      "Epoch 3/5\n",
      "540/540 - 2s - loss: 0.0740 - accuracy: 0.9772 - val_loss: 0.0668 - val_accuracy: 0.9800 - 2s/epoch - 4ms/step\n",
      "Epoch 4/5\n",
      "540/540 - 2s - loss: 0.0595 - accuracy: 0.9818 - val_loss: 0.0722 - val_accuracy: 0.9783 - 2s/epoch - 4ms/step\n",
      "Epoch 5/5\n",
      "540/540 - 2s - loss: 0.0521 - accuracy: 0.9839 - val_loss: 0.0597 - val_accuracy: 0.9830 - 2s/epoch - 4ms/step\n"
     ]
    },
    {
     "data": {
      "text/plain": [
       "<keras.callbacks.History at 0x2d6108826d0>"
      ]
     },
     "execution_count": 50,
     "metadata": {},
     "output_type": "execute_result"
    }
   ],
   "source": [
    "modelo.fit(datos_entreno, \n",
    "          epochs = 5, \n",
    "          validation_data = (entradas_validacion, metas_validacion),\n",
    "          validation_steps = 10,\n",
    "          verbose = 2)"
   ]
  },
  {
   "cell_type": "markdown",
   "id": "0cf158a0",
   "metadata": {},
   "source": [
    "Presición de validación 0.9830"
   ]
  },
  {
   "cell_type": "code",
   "execution_count": 51,
   "id": "2935464b",
   "metadata": {},
   "outputs": [
    {
     "name": "stdout",
     "output_type": "stream",
     "text": [
      "1/1 [==============================] - 0s 260ms/step - loss: 0.0945 - accuracy: 0.9760\n"
     ]
    }
   ],
   "source": [
    "perdida_prueba, precision_prueba = modelo.evaluate(datos_prueba)"
   ]
  },
  {
   "cell_type": "code",
   "execution_count": 52,
   "id": "22034a4c",
   "metadata": {},
   "outputs": [
    {
     "name": "stdout",
     "output_type": "stream",
     "text": [
      "Pérdida de prueba: 0.09. Precisión de prueba: 97.60%\n"
     ]
    }
   ],
   "source": [
    "print('Pérdida de prueba: {0:.2f}. Precisión de prueba: {1:.2f}%'.format(perdida_prueba, precision_prueba * 100.))\n"
   ]
  },
  {
   "cell_type": "markdown",
   "id": "a39d7d99",
   "metadata": {},
   "source": [
    "Podemos observar que este modelo nos da una presición de validación del 0.9830 por lo que podemos decir que mejora con respecto a la presición de validación inicial del 0.9717 sin embargo esta se vuelve suboptima ya que al observar con las 2 capas ocultas de 200 perceptrones cada una en el inciso 1 nos da 97.73% de presición de prueba, y también la presición de validación es menor a la del inciso 1. Por eso a pesar de que tome valores bastante buenos entre los modelos probados es una solución suboptima. Sin embargo es una buena forma de generalizar caracteristicas de la red neuronal obteniendo buenos resultados"
   ]
  },
  {
   "cell_type": "markdown",
   "id": "985a2a69",
   "metadata": {},
   "source": [
    "## 4. Experimenten con las funciones de activación.  Intenten aplicar una transformación sigmoidal a ambas capas.  La activación sigmoidal se obtiene escribiendo “sigmoid”."
   ]
  },
  {
   "cell_type": "code",
   "execution_count": 77,
   "id": "6a492e23",
   "metadata": {},
   "outputs": [],
   "source": [
    "tamanio_capa_escondida = 50\n",
    "tamanio_salida = 10"
   ]
  },
  {
   "cell_type": "code",
   "execution_count": 78,
   "id": "2567ce93",
   "metadata": {},
   "outputs": [],
   "source": [
    "modelo = tf.keras.Sequential([\n",
    "\n",
    "    tf.keras.layers.Flatten(input_shape=(28, 28, 1)), # capa entrada\n",
    "    \n",
    "    tf.keras.layers.Dense(tamanio_capa_escondida, activation='sigmoid'), # 1era capa escondida\n",
    "    tf.keras.layers.Dense(tamanio_capa_escondida, activation='sigmoid'), # 2nda capa escondida\n",
    "\n",
    "    tf.keras.layers.Dense(tamanio_salida, activation='softmax') # capa salida\n",
    "])"
   ]
  },
  {
   "cell_type": "code",
   "execution_count": 80,
   "id": "d713bd25",
   "metadata": {},
   "outputs": [],
   "source": [
    "modelo.compile(optimizer='adam', loss='sparse_categorical_crossentropy', metrics=['accuracy'])"
   ]
  },
  {
   "cell_type": "code",
   "execution_count": 81,
   "id": "711ec7b0",
   "metadata": {},
   "outputs": [
    {
     "name": "stdout",
     "output_type": "stream",
     "text": [
      "Epoch 1/5\n",
      "540/540 - 2s - loss: 0.9933 - accuracy: 0.7845 - val_loss: 0.4197 - val_accuracy: 0.8953 - 2s/epoch - 4ms/step\n",
      "Epoch 2/5\n",
      "540/540 - 1s - loss: 0.3321 - accuracy: 0.9118 - val_loss: 0.2699 - val_accuracy: 0.9230 - 1s/epoch - 3ms/step\n",
      "Epoch 3/5\n",
      "540/540 - 1s - loss: 0.2436 - accuracy: 0.9312 - val_loss: 0.2156 - val_accuracy: 0.9405 - 1s/epoch - 2ms/step\n",
      "Epoch 4/5\n",
      "540/540 - 1s - loss: 0.1994 - accuracy: 0.9432 - val_loss: 0.1764 - val_accuracy: 0.9513 - 1s/epoch - 2ms/step\n",
      "Epoch 5/5\n",
      "540/540 - 1s - loss: 0.1696 - accuracy: 0.9519 - val_loss: 0.1530 - val_accuracy: 0.9577 - 1s/epoch - 2ms/step\n"
     ]
    },
    {
     "data": {
      "text/plain": [
       "<keras.callbacks.History at 0x2d6113fd640>"
      ]
     },
     "execution_count": 81,
     "metadata": {},
     "output_type": "execute_result"
    }
   ],
   "source": [
    "\n",
    "\n",
    "modelo.fit(datos_entreno, \n",
    "          epochs = 5, \n",
    "          validation_data = (entradas_validacion, metas_validacion),\n",
    "          validation_steps = 10,\n",
    "          verbose = 2)"
   ]
  },
  {
   "cell_type": "markdown",
   "id": "531eff64",
   "metadata": {},
   "source": [
    "Presición de validación 0.9577"
   ]
  },
  {
   "cell_type": "code",
   "execution_count": 82,
   "id": "fd22653d",
   "metadata": {},
   "outputs": [
    {
     "name": "stdout",
     "output_type": "stream",
     "text": [
      "1/1 [==============================] - 0s 238ms/step - loss: 0.1652 - accuracy: 0.9505\n"
     ]
    }
   ],
   "source": [
    "perdida_prueba, precision_prueba = modelo.evaluate(datos_prueba)"
   ]
  },
  {
   "cell_type": "code",
   "execution_count": 83,
   "id": "a90630a9",
   "metadata": {},
   "outputs": [
    {
     "name": "stdout",
     "output_type": "stream",
     "text": [
      "Pérdida de prueba: 0.17. Precisión de prueba: 95.05%\n"
     ]
    }
   ],
   "source": [
    "print('Pérdida de prueba: {0:.2f}. Precisión de prueba: {1:.2f}%'.format(perdida_prueba, precision_prueba * 100.))"
   ]
  },
  {
   "cell_type": "markdown",
   "id": "6436e33b",
   "metadata": {},
   "source": [
    "Podemos decir de esta que tanto la presición de prueba (95.05%) y la de la validación (0.9577) con función de activación sigmoidal tiene resultados más bajos de estos campos que la que únicamente utiliza función de activación de unidades linealmente rectificadas en las capas escondidas. Por lo que podemos decir que utilizando función sigmoide de activación se obtienen peores resultados"
   ]
  },
  {
   "cell_type": "markdown",
   "id": "aaca75c6",
   "metadata": {},
   "source": [
    "## 5. Continúen experimentando con las funciones de activación.  Intenten aplicar un ReLu a la primera capa escondida y tanh a la segunda.  La activación tanh se obtiene escribiendo “tanh”."
   ]
  },
  {
   "cell_type": "code",
   "execution_count": 84,
   "id": "d29332c5",
   "metadata": {},
   "outputs": [],
   "source": [
    "tamanio_capa_escondida = 50\n",
    "tamanio_salida = 10"
   ]
  },
  {
   "cell_type": "code",
   "execution_count": 85,
   "id": "c4614d3d",
   "metadata": {},
   "outputs": [],
   "source": [
    "modelo = tf.keras.Sequential([\n",
    "\n",
    "    tf.keras.layers.Flatten(input_shape=(28, 28, 1)), # capa entrada\n",
    "    \n",
    "    tf.keras.layers.Dense(tamanio_capa_escondida, activation='relu'), # 1era capa escondida\n",
    "    tf.keras.layers.Dense(tamanio_capa_escondida, activation='tanh'), # 2nda capa escondida\n",
    "\n",
    "    tf.keras.layers.Dense(tamanio_salida, activation='softmax') # capa salida\n",
    "])"
   ]
  },
  {
   "cell_type": "code",
   "execution_count": 86,
   "id": "8eee260c",
   "metadata": {},
   "outputs": [],
   "source": [
    "modelo.compile(optimizer='adam', loss='sparse_categorical_crossentropy', metrics=['accuracy'])"
   ]
  },
  {
   "cell_type": "code",
   "execution_count": 87,
   "id": "3ec15d05",
   "metadata": {},
   "outputs": [
    {
     "name": "stdout",
     "output_type": "stream",
     "text": [
      "Epoch 1/5\n",
      "540/540 - 2s - loss: 0.3971 - accuracy: 0.8910 - val_loss: 0.1871 - val_accuracy: 0.9470 - 2s/epoch - 4ms/step\n",
      "Epoch 2/5\n",
      "540/540 - 1s - loss: 0.1617 - accuracy: 0.9524 - val_loss: 0.1278 - val_accuracy: 0.9640 - 1s/epoch - 3ms/step\n",
      "Epoch 3/5\n",
      "540/540 - 1s - loss: 0.1180 - accuracy: 0.9654 - val_loss: 0.1033 - val_accuracy: 0.9700 - 1s/epoch - 2ms/step\n",
      "Epoch 4/5\n",
      "540/540 - 1s - loss: 0.0929 - accuracy: 0.9725 - val_loss: 0.0816 - val_accuracy: 0.9745 - 1s/epoch - 2ms/step\n",
      "Epoch 5/5\n",
      "540/540 - 1s - loss: 0.0772 - accuracy: 0.9765 - val_loss: 0.0709 - val_accuracy: 0.9795 - 1s/epoch - 2ms/step\n"
     ]
    },
    {
     "data": {
      "text/plain": [
       "<keras.callbacks.History at 0x2d6112c06d0>"
      ]
     },
     "execution_count": 87,
     "metadata": {},
     "output_type": "execute_result"
    }
   ],
   "source": [
    "\n",
    "\n",
    "modelo.fit(datos_entreno, \n",
    "          epochs = 5, \n",
    "          validation_data = (entradas_validacion, metas_validacion),\n",
    "          validation_steps = 10,\n",
    "          verbose = 2)"
   ]
  },
  {
   "cell_type": "code",
   "execution_count": 88,
   "id": "56f1ff4a",
   "metadata": {},
   "outputs": [
    {
     "name": "stdout",
     "output_type": "stream",
     "text": [
      "1/1 [==============================] - 0s 205ms/step - loss: 0.0908 - accuracy: 0.9718\n"
     ]
    }
   ],
   "source": [
    "perdida_prueba, precision_prueba = modelo.evaluate(datos_prueba)"
   ]
  },
  {
   "cell_type": "code",
   "execution_count": 89,
   "id": "f51a9023",
   "metadata": {},
   "outputs": [
    {
     "name": "stdout",
     "output_type": "stream",
     "text": [
      "Pérdida de prueba: 0.09. Precisión de prueba: 97.18%\n"
     ]
    }
   ],
   "source": [
    "print('Pérdida de prueba: {0:.2f}. Precisión de prueba: {1:.2f}%'.format(perdida_prueba, precision_prueba * 100.))"
   ]
  },
  {
   "cell_type": "markdown",
   "id": "e01e5401",
   "metadata": {
    "cell_id": "7e45cfdf67b04539ab1dd4280f548a6b",
    "deepnote_cell_height": 97.19999694824219,
    "deepnote_cell_type": "markdown",
    "tags": []
   },
   "source": [
    "Como se puede observar, se obtuvieron resultados ligeramente mejores que en la corrida original. Así que cambiando la función de activación tanh da mejores resultados en general que usando la función sigmoidal o la función lineal rectificada (relu). "
   ]
  },
  {
   "cell_type": "markdown",
   "id": "ade36af0",
   "metadata": {
    "cell_id": "714df8e0e5b543148e90023f2e47704d",
    "deepnote_cell_height": 190,
    "deepnote_cell_type": "markdown",
    "tags": []
   },
   "source": [
    "## 6. Ajusten el tamaño de la tanda.  Prueben con un tamaño de tanda de 10,000. ¿Cómo cambia el tiempo requerido?  ¿Cómo cambia la precisión? "
   ]
  },
  {
   "cell_type": "code",
   "execution_count": null,
   "id": "7799ddc7",
   "metadata": {
    "cell_id": "534779fb4d384adea72083e0d549d6ac",
    "deepnote_cell_height": 153,
    "deepnote_cell_type": "code",
    "deepnote_to_be_reexecuted": false,
    "execution_millis": 20,
    "execution_start": 1660893879837,
    "source_hash": "4d2c6250",
    "tags": []
   },
   "outputs": [],
   "source": [
    "datos_entrenamiento_y_validacion_normalizados = entreno_mnist.map(normalizar)\n",
    "datos_prueba = prueba_mnist.map(normalizar)\n",
    "datos_entrenamiento_y_validacion_barajeados = datos_entrenamiento_y_validacion_normalizados.shuffle(TAMANIO_BUFFER)\n",
    "datos_validacion = datos_entrenamiento_y_validacion_barajeados.take(num_obs_validacion)\n",
    "datos_entreno = datos_entrenamiento_y_validacion_barajeados.skip(num_obs_validacion)"
   ]
  },
  {
   "cell_type": "code",
   "execution_count": null,
   "id": "8665cb29",
   "metadata": {
    "cell_id": "6abdabcd5e874d4ab47f86df664c93f8",
    "deepnote_cell_height": 202,
    "deepnote_cell_type": "code",
    "deepnote_to_be_reexecuted": false,
    "execution_millis": 724,
    "execution_start": 1660893881580,
    "source_hash": "ce7418ec",
    "tags": []
   },
   "outputs": [],
   "source": [
    "TAMANIO_TANDA = 10000\n",
    "\n",
    "datos_entreno = datos_entreno.batch(TAMANIO_TANDA)\n",
    "\n",
    "datos_validacion = datos_validacion.batch(num_obs_validacion)\n",
    "\n",
    "datos_prueba = datos_prueba.batch(num_obs_prueba)\n",
    "entradas_validacion, metas_validacion = next(iter(datos_validacion))"
   ]
  },
  {
   "cell_type": "code",
   "execution_count": null,
   "id": "fbe22db4",
   "metadata": {
    "cell_id": "7b26c00eef8e46af9870afc62148e2b6",
    "deepnote_cell_height": 261,
    "deepnote_cell_type": "code",
    "deepnote_to_be_reexecuted": false,
    "execution_millis": 39,
    "execution_start": 1660893883932,
    "source_hash": "366e1547",
    "tags": []
   },
   "outputs": [],
   "source": [
    "tamanio_capa_escondida = 50\n",
    "modelo = tf.keras.Sequential([\n",
    "\n",
    "    tf.keras.layers.Flatten(input_shape=(28, 28, 1)), # capa entrada\n",
    "    \n",
    "    tf.keras.layers.Dense(tamanio_capa_escondida, activation='relu'), # 1era capa escondida\n",
    "    tf.keras.layers.Dense(tamanio_capa_escondida, activation='relu'), # 2nda capa escondida\n",
    "\n",
    "    tf.keras.layers.Dense(tamanio_salida, activation='softmax') # capa salida\n",
    "])\n",
    "modelo.compile(optimizer='adam', loss='sparse_categorical_crossentropy', metrics=['accuracy'])"
   ]
  },
  {
   "cell_type": "code",
   "execution_count": null,
   "id": "fa8b3612",
   "metadata": {
    "cell_id": "bec2b29c84ac4c409d32627ee62fa321",
    "deepnote_cell_height": 495.3999938964844,
    "deepnote_cell_type": "code",
    "deepnote_to_be_reexecuted": false,
    "execution_millis": 14933,
    "execution_start": 1660893927872,
    "source_hash": "3730d656",
    "tags": []
   },
   "outputs": [
    {
     "name": "stdout",
     "output_type": "stream",
     "text": [
      "Epoch 1/5\n",
      "6/6 - 3s - loss: 0.6635 - accuracy: 0.8305 - val_loss: 0.5902 - val_accuracy: 0.8432 - 3s/epoch - 493ms/step\n",
      "Epoch 2/5\n",
      "6/6 - 3s - loss: 0.5564 - accuracy: 0.8512 - val_loss: 0.5033 - val_accuracy: 0.8623 - 3s/epoch - 484ms/step\n",
      "Epoch 3/5\n",
      "6/6 - 3s - loss: 0.4814 - accuracy: 0.8676 - val_loss: 0.4414 - val_accuracy: 0.8742 - 3s/epoch - 487ms/step\n",
      "Epoch 4/5\n",
      "6/6 - 3s - loss: 0.4269 - accuracy: 0.8817 - val_loss: 0.3968 - val_accuracy: 0.8878 - 3s/epoch - 489ms/step\n",
      "Epoch 5/5\n",
      "6/6 - 3s - loss: 0.3895 - accuracy: 0.8915 - val_loss: 0.3635 - val_accuracy: 0.8963 - 3s/epoch - 482ms/step\n",
      "1/1 [==============================] - 0s 327ms/step - loss: 0.3594 - accuracy: 0.8993\n",
      "Pérdida de prueba: 0.36. Precisión de prueba: 89.93%\n"
     ]
    }
   ],
   "source": [
    "NUMERO_EPOCAS = 5\n",
    "\n",
    "modelo.fit(datos_entreno, \n",
    "          epochs = NUMERO_EPOCAS, \n",
    "          validation_data = (entradas_validacion, metas_validacion),\n",
    "          validation_steps = 10,\n",
    "          verbose = 2)\n",
    "perdida_prueba, precision_prueba = modelo.evaluate(datos_prueba)\n",
    "print('Pérdida de prueba: {0:.2f}. Precisión de prueba: {1:.2f}%'.format(perdida_prueba, precision_prueba * 100.))"
   ]
  },
  {
   "cell_type": "markdown",
   "id": "88426546",
   "metadata": {
    "cell_id": "7cceb0f0615f473e93e72b29beb53845",
    "deepnote_cell_height": 164.39999389648438,
    "deepnote_cell_type": "markdown",
    "tags": []
   },
   "source": [
    "Como se puede observar, el cambiar el tamaño de la tanda sí modificó el resultado, teniendo una presición de 89.93% y una perdida de 0.36, siendo estos valores bajos respectos a los resultados originales, en donde se utilizó un tamaño de la tanda de 100 por default. Pero gracias a que se utilizó un tamaño mayor de tanda en este caso, se logró reducir el tiempo de ejecución aproximadamente 10 veces menos que en la corrida original. Pasando de tardarse 4 segundos por cada época, a aproximadamente 500 milisegundos en cada epoca al aumentar el tamaño de la tanda a 10000"
   ]
  },
  {
   "cell_type": "markdown",
   "id": "93043bf8",
   "metadata": {
    "cell_id": "5f4ceff0415c48dca2742882d86488dd",
    "deepnote_cell_height": 190,
    "deepnote_cell_type": "markdown",
    "tags": []
   },
   "source": [
    "## 7. Ajusten el tamaño de la tanda a 1.  Eso corresponde al SGD. ¿Cómo cambian el tiempo y la precisión?  ¿Es el resultado coherente con la teoría?"
   ]
  },
  {
   "cell_type": "code",
   "execution_count": null,
   "id": "bb3559e5",
   "metadata": {
    "cell_id": "56f5677fc4254d4c8483f2af92c3f51a",
    "deepnote_cell_height": 153,
    "deepnote_cell_type": "code",
    "deepnote_to_be_reexecuted": false,
    "execution_millis": 23,
    "execution_start": 1660893961534,
    "source_hash": "4d2c6250",
    "tags": []
   },
   "outputs": [],
   "source": [
    "datos_entrenamiento_y_validacion_normalizados = entreno_mnist.map(normalizar)\n",
    "datos_prueba = prueba_mnist.map(normalizar)\n",
    "datos_entrenamiento_y_validacion_barajeados = datos_entrenamiento_y_validacion_normalizados.shuffle(TAMANIO_BUFFER)\n",
    "datos_validacion = datos_entrenamiento_y_validacion_barajeados.take(num_obs_validacion)\n",
    "datos_entreno = datos_entrenamiento_y_validacion_barajeados.skip(num_obs_validacion)"
   ]
  },
  {
   "cell_type": "code",
   "execution_count": null,
   "id": "3d81b04c",
   "metadata": {
    "allow_embed": false,
    "cell_id": "9b7f2a129bc844ad8ec73ced46454762",
    "deepnote_cell_height": 202,
    "deepnote_cell_type": "code",
    "deepnote_to_be_reexecuted": false,
    "execution_millis": 744,
    "execution_start": 1660893963171,
    "source_hash": "502ddf87",
    "tags": []
   },
   "outputs": [],
   "source": [
    "TAMANIO_TANDA = 1\n",
    "\n",
    "datos_entreno = datos_entreno.batch(TAMANIO_TANDA)\n",
    "\n",
    "datos_validacion = datos_validacion.batch(num_obs_validacion)\n",
    "\n",
    "datos_prueba = datos_prueba.batch(num_obs_prueba)\n",
    "entradas_validacion, metas_validacion = next(iter(datos_validacion))"
   ]
  },
  {
   "cell_type": "code",
   "execution_count": null,
   "id": "b8e344df",
   "metadata": {
    "cell_id": "419a6af8b589466dac1c8e3c9ac73d74",
    "deepnote_cell_height": 261,
    "deepnote_cell_type": "code",
    "deepnote_to_be_reexecuted": false,
    "execution_millis": 32,
    "execution_start": 1660893965299,
    "source_hash": "366e1547",
    "tags": []
   },
   "outputs": [],
   "source": [
    "tamanio_capa_escondida = 50\n",
    "modelo = tf.keras.Sequential([\n",
    "\n",
    "    tf.keras.layers.Flatten(input_shape=(28, 28, 1)), # capa entrada\n",
    "    \n",
    "    tf.keras.layers.Dense(tamanio_capa_escondida, activation='relu'), # 1era capa escondida\n",
    "    tf.keras.layers.Dense(tamanio_capa_escondida, activation='relu'), # 2nda capa escondida\n",
    "\n",
    "    tf.keras.layers.Dense(tamanio_salida, activation='softmax') # capa salida\n",
    "])\n",
    "modelo.compile(optimizer='adam', loss='sparse_categorical_crossentropy', metrics=['accuracy'])"
   ]
  },
  {
   "cell_type": "code",
   "execution_count": null,
   "id": "150652d6",
   "metadata": {
    "cell_id": "d3567ae741dd4a0c95bd7b8af70797a9",
    "deepnote_cell_height": 495.3999938964844,
    "deepnote_cell_type": "code",
    "deepnote_to_be_reexecuted": false,
    "execution_millis": 399611,
    "execution_start": 1660893967056,
    "source_hash": "3730d656",
    "tags": []
   },
   "outputs": [
    {
     "name": "stdout",
     "output_type": "stream",
     "text": [
      "Epoch 1/5\n",
      "54000/54000 - 72s - loss: 0.2434 - accuracy: 0.9272 - val_loss: 0.1474 - val_accuracy: 0.9572 - 72s/epoch - 1ms/step\n",
      "Epoch 2/5\n",
      "54000/54000 - 80s - loss: 0.1504 - accuracy: 0.9582 - val_loss: 0.1493 - val_accuracy: 0.9628 - 80s/epoch - 1ms/step\n",
      "Epoch 3/5\n",
      "54000/54000 - 80s - loss: 0.1353 - accuracy: 0.9636 - val_loss: 0.1402 - val_accuracy: 0.9670 - 80s/epoch - 1ms/step\n",
      "Epoch 4/5\n",
      "54000/54000 - 83s - loss: 0.1297 - accuracy: 0.9662 - val_loss: 0.1325 - val_accuracy: 0.9638 - 83s/epoch - 2ms/step\n",
      "Epoch 5/5\n",
      "54000/54000 - 83s - loss: 0.1240 - accuracy: 0.9690 - val_loss: 0.1403 - val_accuracy: 0.9675 - 83s/epoch - 2ms/step\n",
      "1/1 [==============================] - 0s 480ms/step - loss: 0.1671 - accuracy: 0.9621\n",
      "Pérdida de prueba: 0.17. Precisión de prueba: 96.21%\n"
     ]
    }
   ],
   "source": [
    "NUMERO_EPOCAS = 5\n",
    "\n",
    "modelo.fit(datos_entreno, \n",
    "          epochs = NUMERO_EPOCAS, \n",
    "          validation_data = (entradas_validacion, metas_validacion),\n",
    "          validation_steps = 10,\n",
    "          verbose = 2)\n",
    "perdida_prueba, precision_prueba = modelo.evaluate(datos_prueba)\n",
    "print('Pérdida de prueba: {0:.2f}. Precisión de prueba: {1:.2f}%'.format(perdida_prueba, precision_prueba * 100.))"
   ]
  },
  {
   "cell_type": "markdown",
   "id": "c0e9cfcb",
   "metadata": {
    "cell_id": "584c00d8103c4ffdb2c7d13a11115980",
    "deepnote_cell_height": 164.39999389648438,
    "deepnote_cell_type": "markdown",
    "tags": []
   },
   "source": [
    "Para este caso, el tiempo aumentó considerablemente, aproximadamente 20 veces más que en la corrida original. Además, la precisión y la perdida que se obtuvo en este caso no tuvo un cambio significativo respecto a la corrida original, siendo esta corrida ligeramente peor que la original, pero siendo buenos resultados en general. Gracias a esta pregunta y la anterior, se puede concluir que el aumentar o disminuir el tamaño de las tandas en exceso no es sinónimo de obtener mejores resultados. En algunos caso sí podría dar mejores resultados, pero eso significaría utilizar más recursos computacionales."
   ]
  },
  {
   "cell_type": "markdown",
   "id": "ff3951f3",
   "metadata": {
    "cell_id": "5d97c442bf144a629b177504d5239060",
    "deepnote_cell_height": 110,
    "deepnote_cell_type": "markdown",
    "tags": []
   },
   "source": [
    "## 8. Ajusten la tasa de aprendizaje.  Prueben con un valor de 0.0001.  ¿Hace alguna diferencia?"
   ]
  },
  {
   "cell_type": "code",
   "execution_count": null,
   "id": "c56beee2",
   "metadata": {
    "cell_id": "9a76ec954b654f9385874ca94616ec0b",
    "deepnote_cell_height": 153,
    "deepnote_cell_type": "code",
    "deepnote_to_be_reexecuted": false,
    "execution_millis": 30,
    "execution_start": 1660894796091,
    "source_hash": "4d2c6250",
    "tags": []
   },
   "outputs": [],
   "source": [
    "datos_entrenamiento_y_validacion_normalizados = entreno_mnist.map(normalizar)\n",
    "datos_prueba = prueba_mnist.map(normalizar)\n",
    "datos_entrenamiento_y_validacion_barajeados = datos_entrenamiento_y_validacion_normalizados.shuffle(TAMANIO_BUFFER)\n",
    "datos_validacion = datos_entrenamiento_y_validacion_barajeados.take(num_obs_validacion)\n",
    "datos_entreno = datos_entrenamiento_y_validacion_barajeados.skip(num_obs_validacion)"
   ]
  },
  {
   "cell_type": "code",
   "execution_count": null,
   "id": "cc7c27a5",
   "metadata": {
    "cell_id": "59d8b330aa634cbd85c87cac84872328",
    "deepnote_cell_height": 202,
    "deepnote_cell_type": "code",
    "deepnote_to_be_reexecuted": false,
    "execution_millis": 805,
    "execution_start": 1660894798702,
    "source_hash": "d08942ec",
    "tags": []
   },
   "outputs": [],
   "source": [
    "TAMANIO_TANDA = 100\n",
    "\n",
    "datos_entreno = datos_entreno.batch(TAMANIO_TANDA)\n",
    "\n",
    "datos_validacion = datos_validacion.batch(num_obs_validacion)\n",
    "\n",
    "datos_prueba = datos_prueba.batch(num_obs_prueba)\n",
    "entradas_validacion, metas_validacion = next(iter(datos_validacion))"
   ]
  },
  {
   "cell_type": "code",
   "execution_count": null,
   "id": "9b9f013f",
   "metadata": {
    "cell_id": "38f1e1a7dccc4b9d9f7b0e4131557ee9",
    "deepnote_cell_height": 297,
    "deepnote_cell_type": "code",
    "deepnote_to_be_reexecuted": false,
    "execution_millis": 44,
    "execution_start": 1660894801575,
    "source_hash": "259f6b6b",
    "tags": []
   },
   "outputs": [],
   "source": [
    "tamanio_capa_escondida = 50\n",
    "tasa_aprendizaje = 0.0001\n",
    "modelo = tf.keras.Sequential([\n",
    "\n",
    "    tf.keras.layers.Flatten(input_shape=(28, 28, 1)), # capa entrada\n",
    "    \n",
    "    tf.keras.layers.Dense(tamanio_capa_escondida, activation='relu'), # 1era capa escondida\n",
    "    tf.keras.layers.Dense(tamanio_capa_escondida, activation='relu'), # 2nda capa escondida\n",
    "\n",
    "    tf.keras.layers.Dense(tamanio_salida, activation='softmax') # capa salida\n",
    "])\n",
    "optimizador_adhoc = tf.keras.optimizers.SGD(learning_rate=tasa_aprendizaje)\n",
    "modelo.compile(optimizer = optimizador_adhoc, loss='sparse_categorical_crossentropy', metrics=['accuracy'])"
   ]
  },
  {
   "cell_type": "code",
   "execution_count": null,
   "id": "aa515a54",
   "metadata": {
    "cell_id": "099c073352e2442fba3b872f576fa2ba",
    "deepnote_cell_height": 495.3999938964844,
    "deepnote_cell_type": "code",
    "deepnote_to_be_reexecuted": false,
    "execution_millis": 39965,
    "execution_start": 1660894804311,
    "source_hash": "3730d656",
    "tags": []
   },
   "outputs": [
    {
     "name": "stdout",
     "output_type": "stream",
     "text": [
      "Epoch 1/5\n",
      "540/540 - 5s - loss: 2.3346 - accuracy: 0.0996 - val_loss: 2.3246 - val_accuracy: 0.0990 - 5s/epoch - 8ms/step\n",
      "Epoch 2/5\n",
      "540/540 - 4s - loss: 2.3110 - accuracy: 0.1034 - val_loss: 2.3029 - val_accuracy: 0.1030 - 4s/epoch - 8ms/step\n",
      "Epoch 3/5\n",
      "540/540 - 6s - loss: 2.2911 - accuracy: 0.1097 - val_loss: 2.2836 - val_accuracy: 0.1097 - 6s/epoch - 11ms/step\n",
      "Epoch 4/5\n",
      "540/540 - 7s - loss: 2.2727 - accuracy: 0.1174 - val_loss: 2.2656 - val_accuracy: 0.1190 - 7s/epoch - 12ms/step\n",
      "Epoch 5/5\n",
      "540/540 - 5s - loss: 2.2554 - accuracy: 0.1279 - val_loss: 2.2486 - val_accuracy: 0.1315 - 5s/epoch - 10ms/step\n",
      "1/1 [==============================] - 1s 518ms/step - loss: 2.2447 - accuracy: 0.1386\n",
      "Pérdida de prueba: 2.24. Precisión de prueba: 13.86%\n"
     ]
    }
   ],
   "source": [
    "NUMERO_EPOCAS = 5\n",
    "\n",
    "modelo.fit(datos_entreno, \n",
    "          epochs = NUMERO_EPOCAS, \n",
    "          validation_data = (entradas_validacion, metas_validacion),\n",
    "          validation_steps = 10,\n",
    "          verbose = 2)\n",
    "perdida_prueba, precision_prueba = modelo.evaluate(datos_prueba)\n",
    "print('Pérdida de prueba: {0:.2f}. Precisión de prueba: {1:.2f}%'.format(perdida_prueba, precision_prueba * 100.))"
   ]
  },
  {
   "cell_type": "markdown",
   "id": "64f4fc61",
   "metadata": {
    "cell_id": "212044c99fc34fd484b6344a99b5a6fd",
    "deepnote_cell_height": 97.19999694824219,
    "deepnote_cell_type": "markdown",
    "tags": []
   },
   "source": [
    "El cambiar la tasa de aprendizaje a 0.0001 sí realizó cambios muy grandes en el resultados, siendo que se obtuvo una precisión y una perdida demasiados malos. Así que se puede decir que el disminuir la tasa de aprendizaje, para este caso, da resultados muy malos."
   ]
  },
  {
   "cell_type": "markdown",
   "id": "e6cf41c5",
   "metadata": {
    "cell_id": "614cc3b49f49480889a18b1e1a663a74",
    "deepnote_cell_height": 110,
    "deepnote_cell_type": "markdown",
    "tags": []
   },
   "source": [
    "## 9. Ajusten la tasa de aprendizaje a 0.02.  ¿Hay alguna diferencia?"
   ]
  },
  {
   "cell_type": "code",
   "execution_count": null,
   "id": "196be7b2",
   "metadata": {
    "cell_id": "71f272ecb8ff4ad1b3e5d32012080089",
    "deepnote_cell_height": 153,
    "deepnote_cell_type": "code",
    "deepnote_to_be_reexecuted": false,
    "execution_millis": 26,
    "execution_start": 1660939613842,
    "source_hash": "4d2c6250",
    "tags": []
   },
   "outputs": [],
   "source": [
    "datos_entrenamiento_y_validacion_normalizados = entreno_mnist.map(normalizar)\n",
    "datos_prueba = prueba_mnist.map(normalizar)\n",
    "datos_entrenamiento_y_validacion_barajeados = datos_entrenamiento_y_validacion_normalizados.shuffle(TAMANIO_BUFFER)\n",
    "datos_validacion = datos_entrenamiento_y_validacion_barajeados.take(num_obs_validacion)\n",
    "datos_entreno = datos_entrenamiento_y_validacion_barajeados.skip(num_obs_validacion)"
   ]
  },
  {
   "cell_type": "code",
   "execution_count": null,
   "id": "6714833f",
   "metadata": {
    "cell_id": "0618e2d378084ab59a52ff11f8338caa",
    "deepnote_cell_height": 202,
    "deepnote_cell_type": "code",
    "deepnote_to_be_reexecuted": false,
    "execution_millis": 1135,
    "execution_start": 1660939615694,
    "source_hash": "d08942ec",
    "tags": []
   },
   "outputs": [],
   "source": [
    "TAMANIO_TANDA = 100\n",
    "\n",
    "datos_entreno = datos_entreno.batch(TAMANIO_TANDA)\n",
    "\n",
    "datos_validacion = datos_validacion.batch(num_obs_validacion)\n",
    "\n",
    "datos_prueba = datos_prueba.batch(num_obs_prueba)\n",
    "entradas_validacion, metas_validacion = next(iter(datos_validacion))"
   ]
  },
  {
   "cell_type": "code",
   "execution_count": null,
   "id": "2e6ee483",
   "metadata": {
    "cell_id": "8c81e2d14683405eb909e2ec17c27de1",
    "deepnote_cell_height": 297,
    "deepnote_cell_type": "code",
    "deepnote_to_be_reexecuted": false,
    "execution_millis": 33,
    "execution_start": 1660939618882,
    "source_hash": "4ef8b453",
    "tags": []
   },
   "outputs": [],
   "source": [
    "tamanio_capa_escondida = 50\n",
    "tasa_aprendizaje = 0.02\n",
    "modelo = tf.keras.Sequential([\n",
    "\n",
    "    tf.keras.layers.Flatten(input_shape=(28, 28, 1)), # capa entrada\n",
    "    \n",
    "    tf.keras.layers.Dense(tamanio_capa_escondida, activation='relu'), # 1era capa escondida\n",
    "    tf.keras.layers.Dense(tamanio_capa_escondida, activation='relu'), # 2nda capa escondida\n",
    "\n",
    "    tf.keras.layers.Dense(tamanio_salida, activation='softmax') # capa salida\n",
    "])\n",
    "optimizador_adhoc = tf.keras.optimizers.SGD(learning_rate=tasa_aprendizaje)\n",
    "modelo.compile(optimizer = optimizador_adhoc, loss='sparse_categorical_crossentropy', metrics=['accuracy'])"
   ]
  },
  {
   "cell_type": "code",
   "execution_count": null,
   "id": "7c094dd2",
   "metadata": {
    "cell_id": "feb4b58eb8c040e49f77e84b9db5a28a",
    "deepnote_cell_height": 495.3999938964844,
    "deepnote_cell_type": "code",
    "deepnote_to_be_reexecuted": false,
    "execution_millis": 28745,
    "execution_start": 1660939621030,
    "source_hash": "3730d656",
    "tags": []
   },
   "outputs": [
    {
     "name": "stdout",
     "output_type": "stream",
     "text": [
      "Epoch 1/5\n",
      "540/540 - 6s - loss: 0.9528 - accuracy: 0.7411 - val_loss: 0.4663 - val_accuracy: 0.8760 - 6s/epoch - 11ms/step\n",
      "Epoch 2/5\n",
      "540/540 - 6s - loss: 0.3981 - accuracy: 0.8899 - val_loss: 0.3562 - val_accuracy: 0.9013 - 6s/epoch - 10ms/step\n",
      "Epoch 3/5\n",
      "540/540 - 5s - loss: 0.3337 - accuracy: 0.9054 - val_loss: 0.3190 - val_accuracy: 0.9102 - 5s/epoch - 10ms/step\n",
      "Epoch 4/5\n",
      "540/540 - 5s - loss: 0.3029 - accuracy: 0.9133 - val_loss: 0.2927 - val_accuracy: 0.9192 - 5s/epoch - 10ms/step\n",
      "Epoch 5/5\n",
      "540/540 - 5s - loss: 0.2761 - accuracy: 0.9203 - val_loss: 0.2774 - val_accuracy: 0.9235 - 5s/epoch - 10ms/step\n",
      "1/1 [==============================] - 1s 693ms/step - loss: 0.2625 - accuracy: 0.9271\n",
      "Pérdida de prueba: 0.26. Precisión de prueba: 92.71%\n"
     ]
    }
   ],
   "source": [
    "NUMERO_EPOCAS = 5\n",
    "\n",
    "modelo.fit(datos_entreno, \n",
    "          epochs = NUMERO_EPOCAS, \n",
    "          validation_data = (entradas_validacion, metas_validacion),\n",
    "          validation_steps = 10,\n",
    "          verbose = 2)\n",
    "perdida_prueba, precision_prueba = modelo.evaluate(datos_prueba)\n",
    "print('Pérdida de prueba: {0:.2f}. Precisión de prueba: {1:.2f}%'.format(perdida_prueba, precision_prueba * 100.))"
   ]
  },
  {
   "cell_type": "markdown",
   "id": "374492fd",
   "metadata": {
    "cell_id": "1b5c10eebfc54d1eba2a130ff98c68dc",
    "deepnote_cell_height": 97.19999694824219,
    "deepnote_cell_type": "markdown",
    "tags": []
   },
   "source": [
    "En este caso, al aumentar la tasa de aprendizaje al doble (de 0.01 a 0.02) se obtuvieron resultados más bajos, pero si se comparan con los resultados de la pregunta anterior, se obtuvieron resultados mucho mejores. Así que para este conjunto de datos, es mejor utilizar tasas de aprendizaje aproximados al 0.01."
   ]
  },
  {
   "cell_type": "markdown",
   "id": "ced83a88",
   "metadata": {
    "cell_id": "e89b933651e34becabafc00837922731",
    "deepnote_cell_height": 150,
    "deepnote_cell_type": "markdown",
    "tags": []
   },
   "source": [
    "## 10. Combinen todos los métodos indicados arriba e intenten llegar a una precisión de validación de 98.5% o más. "
   ]
  },
  {
   "cell_type": "code",
   "execution_count": null,
   "id": "09883290",
   "metadata": {
    "cell_id": "4cc9d1f7716645ecaf1ea0052312c6e8",
    "deepnote_cell_height": 153,
    "deepnote_cell_type": "code",
    "deepnote_to_be_reexecuted": false,
    "execution_millis": 20,
    "execution_start": 1660941188545,
    "source_hash": "4d2c6250",
    "tags": []
   },
   "outputs": [],
   "source": [
    "datos_entrenamiento_y_validacion_normalizados = entreno_mnist.map(normalizar)\n",
    "datos_prueba = prueba_mnist.map(normalizar)\n",
    "datos_entrenamiento_y_validacion_barajeados = datos_entrenamiento_y_validacion_normalizados.shuffle(TAMANIO_BUFFER)\n",
    "datos_validacion = datos_entrenamiento_y_validacion_barajeados.take(num_obs_validacion)\n",
    "datos_entreno = datos_entrenamiento_y_validacion_barajeados.skip(num_obs_validacion)"
   ]
  },
  {
   "cell_type": "code",
   "execution_count": null,
   "id": "cfe3e85f",
   "metadata": {
    "cell_id": "dd2f1e8158b44f5786bbea31b24a16ea",
    "deepnote_cell_height": 202,
    "deepnote_cell_type": "code",
    "deepnote_to_be_reexecuted": false,
    "execution_millis": 1364,
    "execution_start": 1660941190582,
    "source_hash": "d08942ec",
    "tags": []
   },
   "outputs": [],
   "source": [
    "TAMANIO_TANDA = 100\n",
    "\n",
    "datos_entreno = datos_entreno.batch(TAMANIO_TANDA)\n",
    "\n",
    "datos_validacion = datos_validacion.batch(num_obs_validacion)\n",
    "\n",
    "datos_prueba = datos_prueba.batch(num_obs_prueba)\n",
    "entradas_validacion, metas_validacion = next(iter(datos_validacion))"
   ]
  },
  {
   "cell_type": "code",
   "execution_count": null,
   "id": "dcde9656",
   "metadata": {
    "cell_id": "64b5ab4263a346148adfc7765eceea86",
    "deepnote_cell_height": 297,
    "deepnote_cell_type": "code",
    "deepnote_to_be_reexecuted": false,
    "execution_millis": 41,
    "execution_start": 1660941193187,
    "source_hash": "3ae79a5c",
    "tags": []
   },
   "outputs": [],
   "source": [
    "tamanio_capa_escondida = 200\n",
    "tasa_aprendizaje = 0.01\n",
    "modelo = tf.keras.Sequential([\n",
    "\n",
    "    tf.keras.layers.Flatten(input_shape=(28, 28, 1)), # capa entrada\n",
    "    \n",
    "    tf.keras.layers.Dense(tamanio_capa_escondida, activation='relu'), # 1era capa escondida\n",
    "    tf.keras.layers.Dense(tamanio_capa_escondida, activation='tanh'), # 2nda capa escondida\n",
    "\n",
    "    tf.keras.layers.Dense(tamanio_salida, activation='softmax') # capa salida\n",
    "])\n",
    "optimizador_adhoc = tf.keras.optimizers.SGD(learning_rate=tasa_aprendizaje)\n",
    "modelo.compile(optimizer = \"adam\", loss='sparse_categorical_crossentropy', metrics=['accuracy'])"
   ]
  },
  {
   "cell_type": "code",
   "execution_count": null,
   "id": "8522cca1",
   "metadata": {
    "cell_id": "66867e5b56a34503939b8e36df9290e4",
    "deepnote_cell_height": 495.3999938964844,
    "deepnote_cell_type": "code",
    "deepnote_to_be_reexecuted": false,
    "execution_millis": 41555,
    "execution_start": 1660941194939,
    "source_hash": "3730d656",
    "tags": []
   },
   "outputs": [
    {
     "name": "stdout",
     "output_type": "stream",
     "text": [
      "Epoch 1/5\n",
      "540/540 - 8s - loss: 0.2567 - accuracy: 0.9245 - val_loss: 0.1405 - val_accuracy: 0.9582 - 8s/epoch - 15ms/step\n",
      "Epoch 2/5\n",
      "540/540 - 8s - loss: 0.0998 - accuracy: 0.9695 - val_loss: 0.0850 - val_accuracy: 0.9752 - 8s/epoch - 14ms/step\n",
      "Epoch 3/5\n",
      "540/540 - 8s - loss: 0.0656 - accuracy: 0.9790 - val_loss: 0.0700 - val_accuracy: 0.9800 - 8s/epoch - 14ms/step\n",
      "Epoch 4/5\n",
      "540/540 - 7s - loss: 0.0462 - accuracy: 0.9853 - val_loss: 0.0583 - val_accuracy: 0.9832 - 7s/epoch - 14ms/step\n",
      "Epoch 5/5\n",
      "540/540 - 7s - loss: 0.0365 - accuracy: 0.9884 - val_loss: 0.0456 - val_accuracy: 0.9870 - 7s/epoch - 14ms/step\n",
      "1/1 [==============================] - 1s 695ms/step - loss: 0.0752 - accuracy: 0.9756\n",
      "Pérdida de prueba: 0.08. Precisión de prueba: 97.56%\n"
     ]
    }
   ],
   "source": [
    "NUMERO_EPOCAS = 5\n",
    "\n",
    "modelo.fit(datos_entreno, \n",
    "          epochs = NUMERO_EPOCAS, \n",
    "          validation_data = (entradas_validacion, metas_validacion),\n",
    "          validation_steps = 10,\n",
    "          verbose = 2)\n",
    "perdida_prueba, precision_prueba = modelo.evaluate(datos_prueba)\n",
    "print('Pérdida de prueba: {0:.2f}. Precisión de prueba: {1:.2f}%'.format(perdida_prueba, precision_prueba * 100.))"
   ]
  },
  {
   "cell_type": "markdown",
   "id": "34151a87",
   "metadata": {
    "cell_id": "8ca1ed13f930471588f4a5bb513ce2fc",
    "deepnote_cell_height": 268,
    "deepnote_cell_type": "markdown",
    "tags": []
   },
   "source": [
    "Como se puede observar, se logró tener una precisión de validación de 98.70%. Esto se consiguió cambiando el tamaño de la capa escondida a 200, cambiando la función de activación de la segunda capa a tanh y dejando los demás parámetros iguales. No se decidió cambiar ningún otro parámetro debido a que, como se pudo observar en las preguntas anteriores, siempre se obtenía un valor más bajo que en la corrida original, siendo únicamente el cambio del tamaño de la capa esconidad y el da la función de activación los que dieron un resultado mejor. \n",
    "\n",
    "Además, muchos libros de texto suelen recomendar numeros de perceptrones que estén entre valores de la capa de salida y entrada, debido a esto se escogió un valor de 200 para el tamaño de la capa escondida, lo cual fue algo que funcionó muy bien cuando se utilizó con función de activación lineal rectificada (relu)"
   ]
  }
 ],
 "metadata": {
  "kernelspec": {
   "display_name": "Python 3.9.10 64-bit",
   "language": "python",
   "name": "python3"
  },
  "language_info": {
   "codemirror_mode": {
    "name": "ipython",
    "version": 3
   },
   "file_extension": ".py",
   "mimetype": "text/x-python",
   "name": "python",
   "nbconvert_exporter": "python",
   "pygments_lexer": "ipython3",
   "version": "3.9.10"
  },
  "vscode": {
   "interpreter": {
    "hash": "347a625715fe29511df74443d0ac60b514ce17bf8af058876f43cde387af9535"
   }
  }
 },
 "nbformat": 4,
 "nbformat_minor": 5
}
